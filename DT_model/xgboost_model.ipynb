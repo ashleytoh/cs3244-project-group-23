{
 "cells": [
  {
   "cell_type": "markdown",
   "metadata": {},
   "source": [
    "# XGBoost Model"
   ]
  },
  {
   "cell_type": "code",
   "execution_count": 6,
   "metadata": {},
   "outputs": [],
   "source": [
    "import pandas as pd\n",
    "from xgboost import XGBClassifier\n",
    "from sklearn.metrics import classification_report, confusion_matrix, precision_score, recall_score, f1_score, accuracy_score\n",
    "from sklearn.preprocessing import LabelEncoder\n",
    "\n",
    "train_df = pd.read_csv(\"../data/processed/train_set.csv\")\n",
    "test_df = pd.read_csv(\"../data/processed/test_set.csv\")"
   ]
  },
  {
   "cell_type": "code",
   "execution_count": 7,
   "metadata": {},
   "outputs": [
    {
     "name": "stderr",
     "output_type": "stream",
     "text": [
      "c:\\Users\\ashle\\OneDrive - National University of Singapore\\AY24-25 Sem 2\\CS3244\\cs3244-project-group-23-3\\.venv\\lib\\site-packages\\xgboost\\training.py:183: UserWarning: [23:02:39] WARNING: C:\\actions-runner\\_work\\xgboost\\xgboost\\src\\learner.cc:738: \n",
      "Parameters: { \"use_label_encoder\" } are not used.\n",
      "\n",
      "  bst.update(dtrain, iteration=i, fobj=obj)\n"
     ]
    },
    {
     "name": "stdout",
     "output_type": "stream",
     "text": [
      "[[ 125  516]\n",
      " [ 385 6266]]\n",
      "Precision (Bad): 0.2451\n",
      "Recall (Bad): 0.1950\n",
      "F1 Score (Bad): 0.2172\n",
      "Accuracy: 0.8764\n"
     ]
    }
   ],
   "source": [
    "# Prepare training data\n",
    "X_train = train_df.drop(columns=[\"credit_status\"])\n",
    "y_train = LabelEncoder().fit_transform(train_df[\"credit_status\"])\n",
    "\n",
    "# Prepare testing data\n",
    "X_test = test_df.drop(columns=[\"credit_status\", \"id\"])\n",
    "y_test = LabelEncoder().fit_transform(test_df[\"credit_status\"])\n",
    "\n",
    "# Initialize and train XGBoost classifier\n",
    "xgb_model = XGBClassifier(use_label_encoder=False, eval_metric='logloss')\n",
    "xgb_model.fit(X_train, y_train)\n",
    "\n",
    "# Predict on test set\n",
    "y_pred = xgb_model.predict(X_test)\n",
    "\n",
    "# Evaluate performance\n",
    "report = classification_report(y_test, y_pred, output_dict=True)\n",
    "conf_matrix = confusion_matrix(y_test, y_pred)\n",
    "\n",
    "print(conf_matrix)\n",
    "\n",
    "# Evaluate metrics\n",
    "precision = precision_score(y_test, y_pred, pos_label=0)  # assuming 'Bad' is encoded as 0\n",
    "recall = recall_score(y_test, y_pred, pos_label=0)\n",
    "f1 = f1_score(y_test, y_pred, pos_label=0)\n",
    "accuracy = accuracy_score(y_test, y_pred)\n",
    "\n",
    "# Print results\n",
    "print(f\"Precision (Bad): {precision:.4f}\")\n",
    "print(f\"Recall (Bad): {recall:.4f}\")\n",
    "print(f\"F1 Score (Bad): {f1:.4f}\")\n",
    "print(f\"Accuracy: {accuracy:.4f}\")"
   ]
  }
 ],
 "metadata": {
  "kernelspec": {
   "display_name": ".venv",
   "language": "python",
   "name": "python3"
  },
  "language_info": {
   "codemirror_mode": {
    "name": "ipython",
    "version": 3
   },
   "file_extension": ".py",
   "mimetype": "text/x-python",
   "name": "python",
   "nbconvert_exporter": "python",
   "pygments_lexer": "ipython3",
   "version": "3.10.6"
  }
 },
 "nbformat": 4,
 "nbformat_minor": 2
}
