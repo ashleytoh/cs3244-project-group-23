{
 "cells": [
  {
   "cell_type": "code",
   "execution_count": 50,
   "id": "6751c011-1c5c-43d7-818a-144edf1075e2",
   "metadata": {},
   "outputs": [
    {
     "name": "stdout",
     "output_type": "stream",
     "text": [
      "Accuracy: 0.8767142073505211\n",
      "Confusion Matrix:\n",
      " [[ 228  413]\n",
      " [ 486 6165]]\n",
      "Classification Report:\n",
      "               precision    recall  f1-score   support\n",
      "\n",
      "         Bad       0.32      0.36      0.34       641\n",
      "        Good       0.94      0.93      0.93      6651\n",
      "\n",
      "    accuracy                           0.88      7292\n",
      "   macro avg       0.63      0.64      0.63      7292\n",
      "weighted avg       0.88      0.88      0.88      7292\n",
      "\n"
     ]
    }
   ],
   "source": [
    "import pandas as pd\n",
    "import numpy as np\n",
    "from sklearn.ensemble import RandomForestClassifier\n",
    "from sklearn.model_selection import train_test_split, GridSearchCV\n",
    "from sklearn.metrics import classification_report, confusion_matrix, accuracy_score\n",
    "\n",
    "# Load the training and testing datasets\n",
    "train_set = pd.read_csv('train_set.csv')\n",
    "test_set = pd.read_csv('test_set.csv')\n",
    "\n",
    "# Separate features and labels\n",
    "X_train = train_set.drop('credit_status', axis=1)\n",
    "y_train = train_set['credit_status']\n",
    "X_test = test_set.drop(['credit_status', 'id'], axis=1)\n",
    "y_test = test_set['credit_status']\n",
    "\n",
    "# Building the Random Forest model\n",
    "rf = RandomForestClassifier(random_state=42, class_weight='balanced')\n",
    "rf.fit(X_train, y_train)\n",
    "\n",
    "# Predictions and Evaluation\n",
    "y_pred = rf.predict(X_test)\n",
    "print(\"Accuracy:\", accuracy_score(y_test, y_pred))\n",
    "print(\"Confusion Matrix:\\n\", confusion_matrix(y_test, y_pred))\n",
    "print(\"Classification Report:\\n\", classification_report(y_test, y_pred))"
   ]
  },
  {
   "cell_type": "code",
   "execution_count": null,
   "id": "b3014e82-dc50-46a5-874a-e24daedc6ecb",
   "metadata": {},
   "outputs": [],
   "source": []
  }
 ],
 "metadata": {
  "kernelspec": {
   "display_name": "Python [conda env:base] *",
   "language": "python",
   "name": "conda-base-py"
  },
  "language_info": {
   "codemirror_mode": {
    "name": "ipython",
    "version": 3
   },
   "file_extension": ".py",
   "mimetype": "text/x-python",
   "name": "python",
   "nbconvert_exporter": "python",
   "pygments_lexer": "ipython3",
   "version": "3.12.7"
  }
 },
 "nbformat": 4,
 "nbformat_minor": 5
}
