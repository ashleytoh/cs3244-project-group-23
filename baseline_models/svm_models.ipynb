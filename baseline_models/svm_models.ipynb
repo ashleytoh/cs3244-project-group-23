{
 "cells": [
  {
   "cell_type": "code",
   "execution_count": 1,
   "id": "10ae80b3-a3f1-4ecd-a03f-43808c723f44",
   "metadata": {},
   "outputs": [],
   "source": [
    "import pandas as pd\n",
    "from sklearn.model_selection import GridSearchCV\n",
    "from sklearn.preprocessing import StandardScaler, LabelEncoder\n",
    "from sklearn.svm import SVC\n",
    "from sklearn.metrics import classification_report, confusion_matrix, f1_score, accuracy_score \n",
    "import warnings\n",
    "from sklearn.exceptions import ConvergenceWarning\n",
    "\n",
    "# Load datasets\n",
    "train_df = pd.read_csv(\"../data/processed/train_set_SMOTEd.csv\")\n",
    "test_df = pd.read_csv(\"../data/processed/test_set.csv\")\n"
   ]
  },
  {
   "cell_type": "code",
   "execution_count": 9,
   "id": "a32b69db-10ef-4242-accf-504eb9999990",
   "metadata": {},
   "outputs": [],
   "source": [
    "# Define feature columns (all except 'id' and 'credit_status')\n",
    "feature_columns = [col for col in train_df.columns if col not in [\"credit_status\", \"id\"]]\n",
    "\n",
    "# Split features and target\n",
    "X_train = train_df[feature_columns]\n",
    "y_train = LabelEncoder().fit_transform(train_df[\"credit_status\"])\n",
    "X_test = test_df[feature_columns]\n",
    "y_test = LabelEncoder().fit_transform(test_df[\"credit_status\"])\n",
    "\n",
    "# Standardize features\n",
    "scaler = StandardScaler()\n",
    "X_train_scaled = scaler.fit_transform(X_train)\n",
    "X_test_scaled = scaler.transform(X_test)"
   ]
  },
  {
   "cell_type": "markdown",
   "id": "a3ec7269",
   "metadata": {},
   "source": [
    "### Testing different kernel functions"
   ]
  },
  {
   "cell_type": "code",
   "execution_count": 10,
   "id": "cf936257-fb51-478f-bcb2-cfe015ac029c",
   "metadata": {
    "scrolled": true
   },
   "outputs": [
    {
     "name": "stdout",
     "output_type": "stream",
     "text": [
      " Training SVM with kernel = 'linear'\n",
      " F1 Score (linear): 0.7705\n",
      "\n",
      " Training SVM with kernel = 'rbf'\n",
      " F1 Score (rbf): 0.5575\n",
      "\n",
      " Training SVM with kernel = 'poly'\n",
      " F1 Score (poly): 0.9511\n",
      "\n",
      " Training SVM with kernel = 'sigmoid'\n",
      " F1 Score (sigmoid): 0.8016\n",
      "\n",
      " F1 Score Comparison:\n",
      " - linear: 0.7705\n",
      " - rbf: 0.5575\n",
      " - poly: 0.9511\n",
      " - sigmoid: 0.8016\n"
     ]
    }
   ],
   "source": [
    "# Suppress ConvergenceWarnings\n",
    "warnings.filterwarnings(\"ignore\", category=ConvergenceWarning)\n",
    "\n",
    "# List of kernels to compare\n",
    "kernels = ['linear', 'rbf', 'poly', 'sigmoid']\n",
    "\n",
    "# Dictionary to store results\n",
    "f1_scores = {}\n",
    "\n",
    "# Train and evaluate SVM for each kernel\n",
    "for kernel in kernels:\n",
    "    print(f\" Training SVM with kernel = '{kernel}'\")\n",
    "    model = SVC(kernel=kernel, probability=False, random_state=42, max_iter=1000)\n",
    "    model.fit(X_train_scaled, y_train)\n",
    "    y_pred = model.predict(X_test_scaled)\n",
    "    score = f1_score(y_test, y_pred)\n",
    "    f1_scores[kernel] = score\n",
    "    print(f\" F1 Score ({kernel}): {score:.4f}\\n\")\n",
    "\n",
    "# Summary\n",
    "print(\" F1 Score Comparison:\")\n",
    "for kernel, score in f1_scores.items():\n",
    "    print(f\" - {kernel}: {score:.4f}\")"
   ]
  },
  {
   "cell_type": "markdown",
   "id": "287cb1a3",
   "metadata": {},
   "source": [
    "The polynomial kernel yielded the best performance based on F1 score, suggesting it may be better suited to the complexity of this dataset compared to the other kernels tested."
   ]
  },
  {
   "cell_type": "markdown",
   "id": "68ffcba6",
   "metadata": {},
   "source": [
    "### SVM model with poly kernel"
   ]
  },
  {
   "cell_type": "markdown",
   "id": "9a9287bb",
   "metadata": {},
   "source": [
    "Find the best regularization parameter for the polynomial kernel."
   ]
  },
  {
   "cell_type": "code",
   "execution_count": 11,
   "id": "5238252d-9dc7-41e6-a7cb-fd812cfb1bf1",
   "metadata": {},
   "outputs": [
    {
     "name": "stdout",
     "output_type": "stream",
     "text": [
      "Fitting 3 folds for each of 5 candidates, totalling 15 fits\n",
      " Best C: 10\n"
     ]
    }
   ],
   "source": [
    "# Train and evaluate SVM with poly kernel for each C value\n",
    "param_grid = {\n",
    "    'C': [0.01, 0.1, 1, 10, 100]\n",
    "}\n",
    "\n",
    "grid_search = GridSearchCV(\n",
    "    estimator = SVC(kernel = 'poly', probability = False, random_state = 42, max_iter = 1000),\n",
    "    param_grid = param_grid,\n",
    "    cv = 3,\n",
    "    scoring = 'f1',\n",
    "    n_jobs = 2,\n",
    "    verbose = 2\n",
    ")\n",
    "\n",
    "grid_search.fit(X_train_scaled, y_train)\n",
    "print(\" Best C:\", grid_search.best_params_['C'])"
   ]
  },
  {
   "cell_type": "markdown",
   "id": "e730f333",
   "metadata": {},
   "source": [
    "Based on the cross-validation results, we selected C = 10 to train our final SVM baseline model."
   ]
  },
  {
   "cell_type": "code",
   "execution_count": 12,
   "id": "08608657-f8d3-4fc2-b955-50716dcd039c",
   "metadata": {},
   "outputs": [],
   "source": [
    "# Train final SVM model using best C and kernel\n",
    "svm_final = SVC(kernel = 'poly', C = 10, random_state = 42, max_iter = 5000)\n",
    "svm_final.fit(X_train_scaled, y_train);"
   ]
  },
  {
   "cell_type": "markdown",
   "id": "17bdc0a7",
   "metadata": {},
   "source": [
    "### Evaluation"
   ]
  },
  {
   "cell_type": "code",
   "execution_count": 13,
   "id": "1020154b",
   "metadata": {},
   "outputs": [
    {
     "name": "stdout",
     "output_type": "stream",
     "text": [
      "        id  predicted_credit_status\n",
      "0  5052720                        1\n",
      "1  5087861                        0\n",
      "2  5068206                        1\n",
      "3  5137255                        1\n",
      "4  5023163                        1\n",
      "Accuracy: 0.812260010970927\n",
      "\n",
      "Confusion Matrix:\n",
      " [[  76  565]\n",
      " [ 804 5847]]\n",
      "\n",
      "Classification Report:\n",
      "               precision    recall  f1-score   support\n",
      "\n",
      "           0       0.09      0.12      0.10       641\n",
      "           1       0.91      0.88      0.90      6651\n",
      "\n",
      "    accuracy                           0.81      7292\n",
      "   macro avg       0.50      0.50      0.50      7292\n",
      "weighted avg       0.84      0.81      0.83      7292\n",
      "\n"
     ]
    }
   ],
   "source": [
    "# Predict on test data\n",
    "y_pred = svm_final.predict(X_test_scaled)\n",
    "\n",
    "# Attach predictions to customer IDs\n",
    "results_df = test_df[[\"id\"]].copy()\n",
    "results_df[\"predicted_credit_status\"] = y_pred\n",
    "\n",
    "# Display results\n",
    "print(results_df.head())\n",
    "\n",
    "# Evaluate performance\n",
    "print(\"Accuracy:\", accuracy_score(y_test, y_pred))\n",
    "print(\"\\nConfusion Matrix:\\n\", confusion_matrix(y_test, y_pred))\n",
    "print(\"\\nClassification Report:\\n\", classification_report(y_test, y_pred))"
   ]
  }
 ],
 "metadata": {
  "kernelspec": {
   "display_name": ".venv",
   "language": "python",
   "name": "python3"
  },
  "language_info": {
   "codemirror_mode": {
    "name": "ipython",
    "version": 3
   },
   "file_extension": ".py",
   "mimetype": "text/x-python",
   "name": "python",
   "nbconvert_exporter": "python",
   "pygments_lexer": "ipython3",
   "version": "3.10.6"
  }
 },
 "nbformat": 4,
 "nbformat_minor": 5
}
