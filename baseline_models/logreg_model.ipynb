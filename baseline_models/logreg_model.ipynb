{
 "cells": [
  {
   "cell_type": "code",
   "execution_count": 5,
   "metadata": {},
   "outputs": [],
   "source": [
    "import pandas as pd\n",
    "from sklearn.linear_model import LogisticRegression\n",
    "from sklearn.metrics import accuracy_score, confusion_matrix, classification_report\n",
    "from sklearn.preprocessing import StandardScaler, LabelEncoder\n",
    "\n",
    "# Load datasets\n",
    "train_df = pd.read_csv(\"../data/processed/train_set_SMOTEd.csv\")\n",
    "test_df = pd.read_csv(\"../data/processed/test_set.csv\")"
   ]
  },
  {
   "cell_type": "markdown",
   "metadata": {},
   "source": [
    "### Logistic regression Model"
   ]
  },
  {
   "cell_type": "code",
   "execution_count": 6,
   "metadata": {},
   "outputs": [],
   "source": [
    "# Define feature columns (all except 'id' and 'credit_status')\n",
    "feature_columns = [col for col in train_df.columns if col not in [\"credit_status\", \"id\"]]\n",
    "\n",
    "# Split features and target\n",
    "X_train = train_df[feature_columns]\n",
    "y_train = LabelEncoder().fit_transform(train_df[\"credit_status\"])\n",
    "X_test = test_df[feature_columns]\n",
    "y_test = LabelEncoder().fit_transform(test_df[\"credit_status\"])\n",
    "\n",
    "# Standardize features\n",
    "scaler = StandardScaler()\n",
    "X_train_scaled = scaler.fit_transform(X_train)\n",
    "X_test_scaled = scaler.transform(X_test)\n",
    "\n",
    "# Train logistic regression model\n",
    "logreg = LogisticRegression(max_iter=1000, random_state=42, class_weight=\"balanced\") #\n",
    "logreg.fit(X_train_scaled, y_train);\n"
   ]
  },
  {
   "cell_type": "markdown",
   "metadata": {},
   "source": [
    "### Evaluation"
   ]
  },
  {
   "cell_type": "code",
   "execution_count": 7,
   "metadata": {},
   "outputs": [
    {
     "name": "stdout",
     "output_type": "stream",
     "text": [
      "        id  predicted_credit_status\n",
      "0  5052720                        0\n",
      "1  5087861                        1\n",
      "2  5068206                        0\n",
      "3  5137255                        0\n",
      "4  5023163                        1\n",
      "Accuracy: 0.8414701042238069\n",
      "\n",
      "Confusion Matrix:\n",
      " [[  95  546]\n",
      " [ 610 6041]]\n",
      "\n",
      "Classification Report:\n",
      "               precision    recall  f1-score   support\n",
      "\n",
      "           0       0.13      0.15      0.14       641\n",
      "           1       0.92      0.91      0.91      6651\n",
      "\n",
      "    accuracy                           0.84      7292\n",
      "   macro avg       0.53      0.53      0.53      7292\n",
      "weighted avg       0.85      0.84      0.84      7292\n",
      "\n"
     ]
    }
   ],
   "source": [
    "# Predict on test set\n",
    "y_pred = logreg.predict(X_test_scaled)\n",
    "\n",
    "# Attach predictions to customer IDs\n",
    "results_df = test_df[[\"id\"]].copy()\n",
    "results_df[\"predicted_credit_status\"] = y_pred\n",
    "\n",
    "# Display results\n",
    "print(results_df.head())\n",
    "\n",
    "# Evaluate performance\n",
    "print(\"Accuracy:\", accuracy_score(y_test, y_pred))\n",
    "print(\"\\nConfusion Matrix:\\n\", confusion_matrix(y_test, y_pred))\n",
    "print(\"\\nClassification Report:\\n\", classification_report(y_test, y_pred))"
   ]
  }
 ],
 "metadata": {
  "kernelspec": {
   "display_name": ".venv",
   "language": "python",
   "name": "python3"
  },
  "language_info": {
   "codemirror_mode": {
    "name": "ipython",
    "version": 3
   },
   "file_extension": ".py",
   "mimetype": "text/x-python",
   "name": "python",
   "nbconvert_exporter": "python",
   "pygments_lexer": "ipython3",
   "version": "3.10.6"
  }
 },
 "nbformat": 4,
 "nbformat_minor": 2
}
