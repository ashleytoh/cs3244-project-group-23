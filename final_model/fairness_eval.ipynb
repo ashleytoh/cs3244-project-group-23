{
 "cells": [
  {
   "cell_type": "code",
   "execution_count": null,
   "id": "c2a271a2",
   "metadata": {},
   "outputs": [
    {
     "name": "stdout",
     "output_type": "stream",
     "text": [
      "🎯 Random Forest Fairness Metrics by Gender:\n",
      "         Accuracy       TPR       FPR\n",
      "gender                              \n",
      "0       0.814565  0.491647  0.155253\n",
      "1       0.818410  0.531532  0.152214\n",
      "\n",
      "🎯 Random Forest Fairness Metrics by Age Group:\n",
      "          Accuracy       TPR       FPR\n",
      "age_bin                              \n",
      "35-50    0.786301  0.481203  0.183120\n",
      "<35      0.858847  0.500000  0.113904\n",
      ">50      0.815678  0.536481  0.153738\n",
      "\n",
      "📊 Demographic Parity Difference (Gender): 0.0034\n",
      "📊 Equalized Odds Difference (Gender): 0.0399\n",
      "\n",
      "📊 Demographic Parity Difference (Age Group): 0.0691\n",
      "📊 Equalized Odds Difference (Age Group): 0.0692\n"
     ]
    }
   ],
   "source": [
    "from fairlearn.metrics import *\n",
    "import pandas as pd\n",
    "from sklearn.metrics import accuracy_score\n",
    "\n",
    "test_df = pd.read_csv(\"test_set_with_predictions.csv\")\n",
    "y_test_binary = test_df['credit_status']\n",
    "y_pred_custom = test_df['predicted_credit_status']\n",
    "\n",
    "# Creating the 'age_bin' column with the adjusted bins for scaled age\n",
    "test_df['age_bin'] = pd.cut(\n",
    "    test_df['age'],  \n",
    "    bins=[0, 0.306122, 0.612244, 1],  # Adjusted bins for scaled age (corresponding to original age ranges)\n",
    "    labels=['<35', '35-50', '>50'],\n",
    "    right=False  # Right edge is excluded, i.e., <30 will not include 30\n",
    ")\n",
    "\n",
    "# Fairness metrics by gender\n",
    "fairness_rf_gender = MetricFrame(\n",
    "    metrics={\n",
    "        \"Accuracy\": accuracy_score,\n",
    "        \"TPR\": true_positive_rate,\n",
    "        \"FPR\": false_positive_rate\n",
    "    },\n",
    "    y_true=y_test_binary,\n",
    "    y_pred=y_pred_custom,\n",
    "    sensitive_features=test_df['gender']\n",
    ")\n",
    "print(\"🎯 Random Forest Fairness Metrics by Gender:\\n\", fairness_rf_gender.by_group)\n",
    "\n",
    "# Fairness metrics by age group\n",
    "fairness_rf_age = MetricFrame(\n",
    "    metrics={\n",
    "        \"Accuracy\": accuracy_score,\n",
    "        \"TPR\": true_positive_rate,\n",
    "        \"FPR\": false_positive_rate\n",
    "    },\n",
    "    y_true=y_test_binary,\n",
    "    y_pred=y_pred_custom,\n",
    "    sensitive_features=test_df['age_bin']\n",
    ")\n",
    "print(\"\\n🎯 Random Forest Fairness Metrics by Age Group:\\n\", fairness_rf_age.by_group)\n",
    "\n",
    "# Disparity metrics (difference across groups)\n",
    "dpd_rf_gender = demographic_parity_difference(y_test_binary, y_pred_custom, sensitive_features=test_df['gender'])\n",
    "eod_rf_gender = equalized_odds_difference(y_test_binary, y_pred_custom, sensitive_features=test_df['gender'])\n",
    "\n",
    "dpd_rf_age = demographic_parity_difference(y_test_binary, y_pred_custom, sensitive_features=test_df['age_bin'])\n",
    "eod_rf_age = equalized_odds_difference(y_test_binary, y_pred_custom, sensitive_features=test_df['age_bin'])\n",
    "\n",
    "print(f\"\\n📊 Demographic Parity Difference (Gender): {dpd_rf_gender:.4f}\")\n",
    "print(f\"📊 Equalized Odds Difference (Gender): {eod_rf_gender:.4f}\")\n",
    "\n",
    "print(f\"\\n📊 Demographic Parity Difference (Age Group): {dpd_rf_age:.4f}\")\n",
    "print(f\"📊 Equalized Odds Difference (Age Group): {eod_rf_age:.4f}\")\n"
   ]
  }
 ],
 "metadata": {
  "kernelspec": {
   "display_name": ".venv",
   "language": "python",
   "name": "python3"
  },
  "language_info": {
   "codemirror_mode": {
    "name": "ipython",
    "version": 3
   },
   "file_extension": ".py",
   "mimetype": "text/x-python",
   "name": "python",
   "nbconvert_exporter": "python",
   "pygments_lexer": "ipython3",
   "version": "3.10.6"
  }
 },
 "nbformat": 4,
 "nbformat_minor": 5
}
