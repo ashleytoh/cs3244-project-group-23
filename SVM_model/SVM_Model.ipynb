{
 "cells": [
  {
   "cell_type": "code",
   "execution_count": null,
   "id": "10ae80b3-a3f1-4ecd-a03f-43808c723f44",
   "metadata": {},
   "outputs": [],
   "source": [
    "# load library\n",
    "\n",
    "import pandas as pd\n",
    "from sklearn.model_selection import GridSearchCV\n",
    "from sklearn.preprocessing import StandardScaler\n",
    "from sklearn.svm import SVC\n",
    "from sklearn.metrics import classification_report, confusion_matrix, f1_score, accuracy_score \n",
    "\n",
    "# Load trainset\n",
    "train_set_df = pd.read_csv('../data/processed/train_set.csv')\n",
    "\n",
    "# Load testset\n",
    "test_set_df = pd.read_csv('../data/processed/test_set.csv')\n"
   ]
  },
  {
   "cell_type": "code",
   "execution_count": 15,
   "id": "348aee38-c872-4ea5-82ab-19e7b5b5710b",
   "metadata": {},
   "outputs": [
    {
     "data": {
      "text/html": [
       "<div>\n",
       "<style scoped>\n",
       "    .dataframe tbody tr th:only-of-type {\n",
       "        vertical-align: middle;\n",
       "    }\n",
       "\n",
       "    .dataframe tbody tr th {\n",
       "        vertical-align: top;\n",
       "    }\n",
       "\n",
       "    .dataframe thead th {\n",
       "        text-align: right;\n",
       "    }\n",
       "</style>\n",
       "<table border=\"1\" class=\"dataframe\">\n",
       "  <thead>\n",
       "    <tr style=\"text-align: right;\">\n",
       "      <th></th>\n",
       "      <th>gender</th>\n",
       "      <th>own_car</th>\n",
       "      <th>own_realty</th>\n",
       "      <th>annual_income</th>\n",
       "      <th>work_phone</th>\n",
       "      <th>phone</th>\n",
       "      <th>email</th>\n",
       "      <th>family_size</th>\n",
       "      <th>age</th>\n",
       "      <th>years_employed</th>\n",
       "      <th>...</th>\n",
       "      <th>occupation_Managers</th>\n",
       "      <th>occupation_Medicine staff</th>\n",
       "      <th>occupation_Others</th>\n",
       "      <th>occupation_Private service staff</th>\n",
       "      <th>occupation_Realty agents</th>\n",
       "      <th>occupation_Sales staff</th>\n",
       "      <th>occupation_Secretaries</th>\n",
       "      <th>occupation_Security staff</th>\n",
       "      <th>occupation_Waiters/barmen staff</th>\n",
       "      <th>credit_status</th>\n",
       "    </tr>\n",
       "  </thead>\n",
       "  <tbody>\n",
       "    <tr>\n",
       "      <th>0</th>\n",
       "      <td>0</td>\n",
       "      <td>0</td>\n",
       "      <td>0</td>\n",
       "      <td>67500.0</td>\n",
       "      <td>0</td>\n",
       "      <td>1</td>\n",
       "      <td>0</td>\n",
       "      <td>3.0</td>\n",
       "      <td>0.204082</td>\n",
       "      <td>1.0</td>\n",
       "      <td>...</td>\n",
       "      <td>False</td>\n",
       "      <td>False</td>\n",
       "      <td>False</td>\n",
       "      <td>False</td>\n",
       "      <td>False</td>\n",
       "      <td>True</td>\n",
       "      <td>False</td>\n",
       "      <td>False</td>\n",
       "      <td>False</td>\n",
       "      <td>Good</td>\n",
       "    </tr>\n",
       "    <tr>\n",
       "      <th>1</th>\n",
       "      <td>0</td>\n",
       "      <td>0</td>\n",
       "      <td>1</td>\n",
       "      <td>675000.0</td>\n",
       "      <td>0</td>\n",
       "      <td>1</td>\n",
       "      <td>0</td>\n",
       "      <td>3.0</td>\n",
       "      <td>0.469388</td>\n",
       "      <td>3.8</td>\n",
       "      <td>...</td>\n",
       "      <td>False</td>\n",
       "      <td>False</td>\n",
       "      <td>False</td>\n",
       "      <td>False</td>\n",
       "      <td>False</td>\n",
       "      <td>True</td>\n",
       "      <td>False</td>\n",
       "      <td>False</td>\n",
       "      <td>False</td>\n",
       "      <td>Good</td>\n",
       "    </tr>\n",
       "    <tr>\n",
       "      <th>2</th>\n",
       "      <td>0</td>\n",
       "      <td>0</td>\n",
       "      <td>0</td>\n",
       "      <td>180000.0</td>\n",
       "      <td>0</td>\n",
       "      <td>0</td>\n",
       "      <td>0</td>\n",
       "      <td>2.0</td>\n",
       "      <td>0.571429</td>\n",
       "      <td>29.5</td>\n",
       "      <td>...</td>\n",
       "      <td>False</td>\n",
       "      <td>True</td>\n",
       "      <td>False</td>\n",
       "      <td>False</td>\n",
       "      <td>False</td>\n",
       "      <td>False</td>\n",
       "      <td>False</td>\n",
       "      <td>False</td>\n",
       "      <td>False</td>\n",
       "      <td>Good</td>\n",
       "    </tr>\n",
       "    <tr>\n",
       "      <th>3</th>\n",
       "      <td>0</td>\n",
       "      <td>1</td>\n",
       "      <td>0</td>\n",
       "      <td>387000.0</td>\n",
       "      <td>0</td>\n",
       "      <td>0</td>\n",
       "      <td>0</td>\n",
       "      <td>3.0</td>\n",
       "      <td>0.326531</td>\n",
       "      <td>7.1</td>\n",
       "      <td>...</td>\n",
       "      <td>True</td>\n",
       "      <td>False</td>\n",
       "      <td>False</td>\n",
       "      <td>False</td>\n",
       "      <td>False</td>\n",
       "      <td>False</td>\n",
       "      <td>False</td>\n",
       "      <td>False</td>\n",
       "      <td>False</td>\n",
       "      <td>Good</td>\n",
       "    </tr>\n",
       "    <tr>\n",
       "      <th>4</th>\n",
       "      <td>0</td>\n",
       "      <td>1</td>\n",
       "      <td>0</td>\n",
       "      <td>337500.0</td>\n",
       "      <td>1</td>\n",
       "      <td>0</td>\n",
       "      <td>1</td>\n",
       "      <td>1.0</td>\n",
       "      <td>0.122449</td>\n",
       "      <td>0.8</td>\n",
       "      <td>...</td>\n",
       "      <td>False</td>\n",
       "      <td>False</td>\n",
       "      <td>True</td>\n",
       "      <td>False</td>\n",
       "      <td>False</td>\n",
       "      <td>False</td>\n",
       "      <td>False</td>\n",
       "      <td>False</td>\n",
       "      <td>False</td>\n",
       "      <td>Good</td>\n",
       "    </tr>\n",
       "  </tbody>\n",
       "</table>\n",
       "<p>5 rows × 48 columns</p>\n",
       "</div>"
      ],
      "text/plain": [
       "   gender  own_car  own_realty  annual_income  work_phone  phone  email  \\\n",
       "0       0        0           0        67500.0           0      1      0   \n",
       "1       0        0           1       675000.0           0      1      0   \n",
       "2       0        0           0       180000.0           0      0      0   \n",
       "3       0        1           0       387000.0           0      0      0   \n",
       "4       0        1           0       337500.0           1      0      1   \n",
       "\n",
       "   family_size       age  years_employed  ...  occupation_Managers  \\\n",
       "0          3.0  0.204082             1.0  ...                False   \n",
       "1          3.0  0.469388             3.8  ...                False   \n",
       "2          2.0  0.571429            29.5  ...                False   \n",
       "3          3.0  0.326531             7.1  ...                 True   \n",
       "4          1.0  0.122449             0.8  ...                False   \n",
       "\n",
       "   occupation_Medicine staff  occupation_Others  \\\n",
       "0                      False              False   \n",
       "1                      False              False   \n",
       "2                       True              False   \n",
       "3                      False              False   \n",
       "4                      False               True   \n",
       "\n",
       "   occupation_Private service staff  occupation_Realty agents  \\\n",
       "0                             False                     False   \n",
       "1                             False                     False   \n",
       "2                             False                     False   \n",
       "3                             False                     False   \n",
       "4                             False                     False   \n",
       "\n",
       "   occupation_Sales staff  occupation_Secretaries  occupation_Security staff  \\\n",
       "0                    True                   False                      False   \n",
       "1                    True                   False                      False   \n",
       "2                   False                   False                      False   \n",
       "3                   False                   False                      False   \n",
       "4                   False                   False                      False   \n",
       "\n",
       "   occupation_Waiters/barmen staff  credit_status  \n",
       "0                            False           Good  \n",
       "1                            False           Good  \n",
       "2                            False           Good  \n",
       "3                            False           Good  \n",
       "4                            False           Good  \n",
       "\n",
       "[5 rows x 48 columns]"
      ]
     },
     "execution_count": 15,
     "metadata": {},
     "output_type": "execute_result"
    }
   ],
   "source": [
    "# Inspect dataframe\n",
    "train_set_df.head()"
   ]
  },
  {
   "cell_type": "code",
   "execution_count": 16,
   "id": "5b8a9a08-5dbe-454a-a966-e9274a7de390",
   "metadata": {},
   "outputs": [
    {
     "data": {
      "text/html": [
       "<div>\n",
       "<style scoped>\n",
       "    .dataframe tbody tr th:only-of-type {\n",
       "        vertical-align: middle;\n",
       "    }\n",
       "\n",
       "    .dataframe tbody tr th {\n",
       "        vertical-align: top;\n",
       "    }\n",
       "\n",
       "    .dataframe thead th {\n",
       "        text-align: right;\n",
       "    }\n",
       "</style>\n",
       "<table border=\"1\" class=\"dataframe\">\n",
       "  <thead>\n",
       "    <tr style=\"text-align: right;\">\n",
       "      <th></th>\n",
       "      <th>id</th>\n",
       "      <th>gender</th>\n",
       "      <th>own_car</th>\n",
       "      <th>own_realty</th>\n",
       "      <th>annual_income</th>\n",
       "      <th>work_phone</th>\n",
       "      <th>phone</th>\n",
       "      <th>email</th>\n",
       "      <th>family_size</th>\n",
       "      <th>age</th>\n",
       "      <th>...</th>\n",
       "      <th>occupation_Managers</th>\n",
       "      <th>occupation_Medicine staff</th>\n",
       "      <th>occupation_Others</th>\n",
       "      <th>occupation_Private service staff</th>\n",
       "      <th>occupation_Realty agents</th>\n",
       "      <th>occupation_Sales staff</th>\n",
       "      <th>occupation_Secretaries</th>\n",
       "      <th>occupation_Security staff</th>\n",
       "      <th>occupation_Waiters/barmen staff</th>\n",
       "      <th>credit_status</th>\n",
       "    </tr>\n",
       "  </thead>\n",
       "  <tbody>\n",
       "    <tr>\n",
       "      <th>0</th>\n",
       "      <td>5052720</td>\n",
       "      <td>0</td>\n",
       "      <td>0</td>\n",
       "      <td>0</td>\n",
       "      <td>126000.0</td>\n",
       "      <td>0</td>\n",
       "      <td>0</td>\n",
       "      <td>0</td>\n",
       "      <td>2.0</td>\n",
       "      <td>0.795918</td>\n",
       "      <td>...</td>\n",
       "      <td>False</td>\n",
       "      <td>False</td>\n",
       "      <td>True</td>\n",
       "      <td>False</td>\n",
       "      <td>False</td>\n",
       "      <td>False</td>\n",
       "      <td>False</td>\n",
       "      <td>False</td>\n",
       "      <td>False</td>\n",
       "      <td>Good</td>\n",
       "    </tr>\n",
       "    <tr>\n",
       "      <th>1</th>\n",
       "      <td>5087861</td>\n",
       "      <td>0</td>\n",
       "      <td>0</td>\n",
       "      <td>1</td>\n",
       "      <td>112500.0</td>\n",
       "      <td>0</td>\n",
       "      <td>0</td>\n",
       "      <td>0</td>\n",
       "      <td>3.0</td>\n",
       "      <td>0.224490</td>\n",
       "      <td>...</td>\n",
       "      <td>False</td>\n",
       "      <td>False</td>\n",
       "      <td>False</td>\n",
       "      <td>True</td>\n",
       "      <td>False</td>\n",
       "      <td>False</td>\n",
       "      <td>False</td>\n",
       "      <td>False</td>\n",
       "      <td>False</td>\n",
       "      <td>Good</td>\n",
       "    </tr>\n",
       "    <tr>\n",
       "      <th>2</th>\n",
       "      <td>5068206</td>\n",
       "      <td>0</td>\n",
       "      <td>0</td>\n",
       "      <td>0</td>\n",
       "      <td>166500.0</td>\n",
       "      <td>0</td>\n",
       "      <td>1</td>\n",
       "      <td>0</td>\n",
       "      <td>2.0</td>\n",
       "      <td>0.836735</td>\n",
       "      <td>...</td>\n",
       "      <td>False</td>\n",
       "      <td>False</td>\n",
       "      <td>True</td>\n",
       "      <td>False</td>\n",
       "      <td>False</td>\n",
       "      <td>False</td>\n",
       "      <td>False</td>\n",
       "      <td>False</td>\n",
       "      <td>False</td>\n",
       "      <td>Good</td>\n",
       "    </tr>\n",
       "    <tr>\n",
       "      <th>3</th>\n",
       "      <td>5137255</td>\n",
       "      <td>1</td>\n",
       "      <td>1</td>\n",
       "      <td>0</td>\n",
       "      <td>135000.0</td>\n",
       "      <td>0</td>\n",
       "      <td>0</td>\n",
       "      <td>0</td>\n",
       "      <td>1.0</td>\n",
       "      <td>0.612245</td>\n",
       "      <td>...</td>\n",
       "      <td>False</td>\n",
       "      <td>False</td>\n",
       "      <td>False</td>\n",
       "      <td>False</td>\n",
       "      <td>False</td>\n",
       "      <td>False</td>\n",
       "      <td>False</td>\n",
       "      <td>False</td>\n",
       "      <td>False</td>\n",
       "      <td>Bad</td>\n",
       "    </tr>\n",
       "    <tr>\n",
       "      <th>4</th>\n",
       "      <td>5023163</td>\n",
       "      <td>0</td>\n",
       "      <td>0</td>\n",
       "      <td>1</td>\n",
       "      <td>135000.0</td>\n",
       "      <td>0</td>\n",
       "      <td>1</td>\n",
       "      <td>0</td>\n",
       "      <td>1.0</td>\n",
       "      <td>0.795918</td>\n",
       "      <td>...</td>\n",
       "      <td>False</td>\n",
       "      <td>False</td>\n",
       "      <td>True</td>\n",
       "      <td>False</td>\n",
       "      <td>False</td>\n",
       "      <td>False</td>\n",
       "      <td>False</td>\n",
       "      <td>False</td>\n",
       "      <td>False</td>\n",
       "      <td>Good</td>\n",
       "    </tr>\n",
       "  </tbody>\n",
       "</table>\n",
       "<p>5 rows × 49 columns</p>\n",
       "</div>"
      ],
      "text/plain": [
       "        id  gender  own_car  own_realty  annual_income  work_phone  phone  \\\n",
       "0  5052720       0        0           0       126000.0           0      0   \n",
       "1  5087861       0        0           1       112500.0           0      0   \n",
       "2  5068206       0        0           0       166500.0           0      1   \n",
       "3  5137255       1        1           0       135000.0           0      0   \n",
       "4  5023163       0        0           1       135000.0           0      1   \n",
       "\n",
       "   email  family_size       age  ...  occupation_Managers  \\\n",
       "0      0          2.0  0.795918  ...                False   \n",
       "1      0          3.0  0.224490  ...                False   \n",
       "2      0          2.0  0.836735  ...                False   \n",
       "3      0          1.0  0.612245  ...                False   \n",
       "4      0          1.0  0.795918  ...                False   \n",
       "\n",
       "   occupation_Medicine staff  occupation_Others  \\\n",
       "0                      False               True   \n",
       "1                      False              False   \n",
       "2                      False               True   \n",
       "3                      False              False   \n",
       "4                      False               True   \n",
       "\n",
       "   occupation_Private service staff  occupation_Realty agents  \\\n",
       "0                             False                     False   \n",
       "1                              True                     False   \n",
       "2                             False                     False   \n",
       "3                             False                     False   \n",
       "4                             False                     False   \n",
       "\n",
       "   occupation_Sales staff  occupation_Secretaries  occupation_Security staff  \\\n",
       "0                   False                   False                      False   \n",
       "1                   False                   False                      False   \n",
       "2                   False                   False                      False   \n",
       "3                   False                   False                      False   \n",
       "4                   False                   False                      False   \n",
       "\n",
       "   occupation_Waiters/barmen staff  credit_status  \n",
       "0                            False           Good  \n",
       "1                            False           Good  \n",
       "2                            False           Good  \n",
       "3                            False            Bad  \n",
       "4                            False           Good  \n",
       "\n",
       "[5 rows x 49 columns]"
      ]
     },
     "execution_count": 16,
     "metadata": {},
     "output_type": "execute_result"
    }
   ],
   "source": [
    "# Inspect dataframe\n",
    "test_set_df.head()"
   ]
  },
  {
   "cell_type": "code",
   "execution_count": 17,
   "id": "a32b69db-10ef-4242-accf-504eb9999990",
   "metadata": {},
   "outputs": [],
   "source": [
    "# Separate features from credit_label\n",
    "\n",
    "X_train = train_set_df.drop(['credit_status'], axis=1)\n",
    "y_train = train_set_df['credit_status']\n",
    "\n",
    "X_test = test_set_df.drop(['credit_status', 'id'], axis=1)\n",
    "y_test = test_set_df['credit_status']\n"
   ]
  },
  {
   "cell_type": "code",
   "execution_count": 18,
   "id": "cf936257-fb51-478f-bcb2-cfe015ac029c",
   "metadata": {
    "scrolled": true
   },
   "outputs": [
    {
     "name": "stdout",
     "output_type": "stream",
     "text": [
      " Training SVM with kernel = 'linear'\n"
     ]
    },
    {
     "name": "stderr",
     "output_type": "stream",
     "text": [
      "/Library/Frameworks/Python.framework/Versions/3.12/lib/python3.12/site-packages/sklearn/svm/_base.py:305: ConvergenceWarning: Solver terminated early (max_iter=5000).  Consider pre-processing your data with StandardScaler or MinMaxScaler.\n",
      "  warnings.warn(\n"
     ]
    },
    {
     "name": "stdout",
     "output_type": "stream",
     "text": [
      " F1 Score (linear): 0.6051\n",
      "\n",
      " Training SVM with kernel = 'rbf'\n"
     ]
    },
    {
     "name": "stderr",
     "output_type": "stream",
     "text": [
      "/Library/Frameworks/Python.framework/Versions/3.12/lib/python3.12/site-packages/sklearn/svm/_base.py:305: ConvergenceWarning: Solver terminated early (max_iter=5000).  Consider pre-processing your data with StandardScaler or MinMaxScaler.\n",
      "  warnings.warn(\n"
     ]
    },
    {
     "name": "stdout",
     "output_type": "stream",
     "text": [
      " F1 Score (rbf): 0.8592\n",
      "\n",
      " Training SVM with kernel = 'poly'\n"
     ]
    },
    {
     "name": "stderr",
     "output_type": "stream",
     "text": [
      "/Library/Frameworks/Python.framework/Versions/3.12/lib/python3.12/site-packages/sklearn/svm/_base.py:305: ConvergenceWarning: Solver terminated early (max_iter=5000).  Consider pre-processing your data with StandardScaler or MinMaxScaler.\n",
      "  warnings.warn(\n"
     ]
    },
    {
     "name": "stdout",
     "output_type": "stream",
     "text": [
      " F1 Score (poly): 0.9535\n",
      "\n",
      " Training SVM with kernel = 'sigmoid'\n"
     ]
    },
    {
     "name": "stderr",
     "output_type": "stream",
     "text": [
      "/Library/Frameworks/Python.framework/Versions/3.12/lib/python3.12/site-packages/sklearn/svm/_base.py:305: ConvergenceWarning: Solver terminated early (max_iter=5000).  Consider pre-processing your data with StandardScaler or MinMaxScaler.\n",
      "  warnings.warn(\n"
     ]
    },
    {
     "name": "stdout",
     "output_type": "stream",
     "text": [
      " F1 Score (sigmoid): 0.8810\n",
      "\n",
      " F1 Score Comparison:\n",
      " - linear: 0.6051\n",
      " - rbf: 0.8592\n",
      " - poly: 0.9535\n",
      " - sigmoid: 0.8810\n"
     ]
    }
   ],
   "source": [
    "# Convert string labels to numeric\n",
    "y_train = y_train.map({'Bad': 0, 'Good': 1})\n",
    "y_test = y_test.map({'Bad': 0, 'Good': 1})\n",
    "\n",
    "# List of kernels to compare\n",
    "kernels = ['linear', 'rbf', 'poly', 'sigmoid']\n",
    "\n",
    "# Dictionary to store results\n",
    "f1_scores = {}\n",
    "\n",
    "# Train and evaluate SVM for each kernel\n",
    "for kernel in kernels:\n",
    "    print(f\" Training SVM with kernel = '{kernel}'\")\n",
    "    model = SVC(kernel = kernel, probability = True, random_state = 42, max_iter=5000)\n",
    "    model.fit(X_train, y_train)\n",
    "    y_pred = model.predict(X_test)\n",
    "    score = f1_score(y_test, y_pred)\n",
    "    f1_scores[kernel] = score\n",
    "    print(f\" F1 Score ({kernel}): {score:.4f}\\n\")\n",
    "\n",
    "# Summary\n",
    "print(\" F1 Score Comparison:\")\n",
    "for kernel, score in f1_scores.items():\n",
    "    print(f\" - {kernel}: {score:.4f}\")\n",
    "    "
   ]
  },
  {
   "cell_type": "code",
   "execution_count": 19,
   "id": "5238252d-9dc7-41e6-a7cb-fd812cfb1bf1",
   "metadata": {},
   "outputs": [
    {
     "name": "stdout",
     "output_type": "stream",
     "text": [
      "Fitting 3 folds for each of 5 candidates, totalling 15 fits\n"
     ]
    },
    {
     "name": "stderr",
     "output_type": "stream",
     "text": [
      "/Library/Frameworks/Python.framework/Versions/3.12/lib/python3.12/site-packages/sklearn/svm/_base.py:305: ConvergenceWarning: Solver terminated early (max_iter=1000).  Consider pre-processing your data with StandardScaler or MinMaxScaler.\n",
      "  warnings.warn(\n",
      "/Library/Frameworks/Python.framework/Versions/3.12/lib/python3.12/site-packages/sklearn/svm/_base.py:305: ConvergenceWarning: Solver terminated early (max_iter=1000).  Consider pre-processing your data with StandardScaler or MinMaxScaler.\n",
      "  warnings.warn(\n"
     ]
    },
    {
     "name": "stdout",
     "output_type": "stream",
     "text": [
      "[CV] END ................................................C=1; total time=  29.9s\n",
      "[CV] END ................................................C=1; total time=  30.6s\n"
     ]
    },
    {
     "name": "stderr",
     "output_type": "stream",
     "text": [
      "/Library/Frameworks/Python.framework/Versions/3.12/lib/python3.12/site-packages/sklearn/svm/_base.py:305: ConvergenceWarning: Solver terminated early (max_iter=1000).  Consider pre-processing your data with StandardScaler or MinMaxScaler.\n",
      "  warnings.warn(\n",
      "/Library/Frameworks/Python.framework/Versions/3.12/lib/python3.12/site-packages/sklearn/svm/_base.py:305: ConvergenceWarning: Solver terminated early (max_iter=1000).  Consider pre-processing your data with StandardScaler or MinMaxScaler.\n",
      "  warnings.warn(\n"
     ]
    },
    {
     "name": "stdout",
     "output_type": "stream",
     "text": [
      "[CV] END ..............................................C=0.1; total time=  38.9s\n",
      "[CV] END ..............................................C=0.1; total time=  39.1s\n"
     ]
    },
    {
     "name": "stderr",
     "output_type": "stream",
     "text": [
      "/Library/Frameworks/Python.framework/Versions/3.12/lib/python3.12/site-packages/sklearn/svm/_base.py:305: ConvergenceWarning: Solver terminated early (max_iter=1000).  Consider pre-processing your data with StandardScaler or MinMaxScaler.\n",
      "  warnings.warn(\n"
     ]
    },
    {
     "name": "stdout",
     "output_type": "stream",
     "text": [
      "[CV] END ..............................................C=0.1; total time=  41.7s\n"
     ]
    },
    {
     "name": "stderr",
     "output_type": "stream",
     "text": [
      "/Library/Frameworks/Python.framework/Versions/3.12/lib/python3.12/site-packages/sklearn/svm/_base.py:305: ConvergenceWarning: Solver terminated early (max_iter=1000).  Consider pre-processing your data with StandardScaler or MinMaxScaler.\n",
      "  warnings.warn(\n",
      "/Library/Frameworks/Python.framework/Versions/3.12/lib/python3.12/site-packages/sklearn/svm/_base.py:305: ConvergenceWarning: Solver terminated early (max_iter=1000).  Consider pre-processing your data with StandardScaler or MinMaxScaler.\n",
      "  warnings.warn(\n",
      "/Library/Frameworks/Python.framework/Versions/3.12/lib/python3.12/site-packages/sklearn/svm/_base.py:305: ConvergenceWarning: Solver terminated early (max_iter=1000).  Consider pre-processing your data with StandardScaler or MinMaxScaler.\n",
      "  warnings.warn(\n"
     ]
    },
    {
     "name": "stdout",
     "output_type": "stream",
     "text": [
      "[CV] END .............................................C=0.01; total time=  46.2s\n",
      "[CV] END .............................................C=0.01; total time=  46.4s\n",
      "[CV] END .............................................C=0.01; total time=  46.6s\n"
     ]
    },
    {
     "name": "stderr",
     "output_type": "stream",
     "text": [
      "/Library/Frameworks/Python.framework/Versions/3.12/lib/python3.12/site-packages/sklearn/svm/_base.py:305: ConvergenceWarning: Solver terminated early (max_iter=1000).  Consider pre-processing your data with StandardScaler or MinMaxScaler.\n",
      "  warnings.warn(\n",
      "/Library/Frameworks/Python.framework/Versions/3.12/lib/python3.12/site-packages/sklearn/svm/_base.py:305: ConvergenceWarning: Solver terminated early (max_iter=1000).  Consider pre-processing your data with StandardScaler or MinMaxScaler.\n",
      "  warnings.warn(\n"
     ]
    },
    {
     "name": "stdout",
     "output_type": "stream",
     "text": [
      "[CV] END ................................................C=1; total time=  31.7s\n",
      "[CV] END ...............................................C=10; total time=  31.2s\n"
     ]
    },
    {
     "name": "stderr",
     "output_type": "stream",
     "text": [
      "/Library/Frameworks/Python.framework/Versions/3.12/lib/python3.12/site-packages/sklearn/svm/_base.py:305: ConvergenceWarning: Solver terminated early (max_iter=1000).  Consider pre-processing your data with StandardScaler or MinMaxScaler.\n",
      "  warnings.warn(\n",
      "/Library/Frameworks/Python.framework/Versions/3.12/lib/python3.12/site-packages/sklearn/svm/_base.py:305: ConvergenceWarning: Solver terminated early (max_iter=1000).  Consider pre-processing your data with StandardScaler or MinMaxScaler.\n",
      "  warnings.warn(\n"
     ]
    },
    {
     "name": "stdout",
     "output_type": "stream",
     "text": [
      "[CV] END ...............................................C=10; total time=  30.5s\n"
     ]
    },
    {
     "name": "stderr",
     "output_type": "stream",
     "text": [
      "/Library/Frameworks/Python.framework/Versions/3.12/lib/python3.12/site-packages/sklearn/svm/_base.py:305: ConvergenceWarning: Solver terminated early (max_iter=1000).  Consider pre-processing your data with StandardScaler or MinMaxScaler.\n",
      "  warnings.warn(\n"
     ]
    },
    {
     "name": "stdout",
     "output_type": "stream",
     "text": [
      "[CV] END ...............................................C=10; total time=  31.5s\n",
      "[CV] END ..............................................C=100; total time=  29.5s\n"
     ]
    },
    {
     "name": "stderr",
     "output_type": "stream",
     "text": [
      "/Library/Frameworks/Python.framework/Versions/3.12/lib/python3.12/site-packages/sklearn/svm/_base.py:305: ConvergenceWarning: Solver terminated early (max_iter=1000).  Consider pre-processing your data with StandardScaler or MinMaxScaler.\n",
      "  warnings.warn(\n",
      "/Library/Frameworks/Python.framework/Versions/3.12/lib/python3.12/site-packages/sklearn/svm/_base.py:305: ConvergenceWarning: Solver terminated early (max_iter=1000).  Consider pre-processing your data with StandardScaler or MinMaxScaler.\n",
      "  warnings.warn(\n"
     ]
    },
    {
     "name": "stdout",
     "output_type": "stream",
     "text": [
      "[CV] END ..............................................C=100; total time=  27.6s\n",
      "[CV] END ..............................................C=100; total time=  27.4s\n",
      " Best C: 0.01\n"
     ]
    },
    {
     "name": "stderr",
     "output_type": "stream",
     "text": [
      "/Library/Frameworks/Python.framework/Versions/3.12/lib/python3.12/site-packages/sklearn/svm/_base.py:305: ConvergenceWarning: Solver terminated early (max_iter=1000).  Consider pre-processing your data with StandardScaler or MinMaxScaler.\n",
      "  warnings.warn(\n"
     ]
    }
   ],
   "source": [
    "# Train and evaluate SVM with poly kernel for each C value\n",
    "\n",
    "param_grid = {\n",
    "    'C': [0.01, 0.1, 1, 10, 100]\n",
    "}\n",
    "\n",
    "grid_search = GridSearchCV(\n",
    "    estimator = SVC(kernel = 'poly', probability = True, random_state = 42, max_iter = 1000),\n",
    "    param_grid = param_grid,\n",
    "    cv = 3,\n",
    "    scoring = 'f1',\n",
    "    n_jobs = -1,\n",
    "    verbose = 2\n",
    ")\n",
    "\n",
    "grid_search.fit(X_train, y_train)\n",
    "print(\" Best C:\", grid_search.best_params_['C'])"
   ]
  },
  {
   "cell_type": "code",
   "execution_count": 21,
   "id": "08608657-f8d3-4fc2-b955-50716dcd039c",
   "metadata": {},
   "outputs": [
    {
     "name": "stderr",
     "output_type": "stream",
     "text": [
      "/Library/Frameworks/Python.framework/Versions/3.12/lib/python3.12/site-packages/sklearn/svm/_base.py:305: ConvergenceWarning: Solver terminated early (max_iter=5000).  Consider pre-processing your data with StandardScaler or MinMaxScaler.\n",
      "  warnings.warn(\n"
     ]
    },
    {
     "name": "stdout",
     "output_type": "stream",
     "text": [
      " Confusion Matrix:\n",
      " [[   0  641]\n",
      " [   7 6644]]\n",
      "\n",
      " Classification Report:\n",
      "               precision    recall  f1-score   support\n",
      "\n",
      "           0       0.00      0.00      0.00       641\n",
      "           1       0.91      1.00      0.95      6651\n",
      "\n",
      "    accuracy                           0.91      7292\n",
      "   macro avg       0.46      0.50      0.48      7292\n",
      "weighted avg       0.83      0.91      0.87      7292\n",
      "\n",
      "Accuracy: 0.9111354909489852\n",
      " Final F1 Score: 0.9535017221584385\n"
     ]
    }
   ],
   "source": [
    "# Train final SVM model using best C and kernel\n",
    "svm_final = SVC(kernel = 'poly', C = 0.01, random_state = 42, max_iter = 5000)\n",
    "svm_final.fit(X_train, y_train)\n",
    "\n",
    "# Predict on test data\n",
    "y_pred = svm_final.predict(X_test)\n",
    "\n",
    "# Evaluate model\n",
    "print(\" Confusion Matrix:\\n\", confusion_matrix(y_test, y_pred))\n",
    "print(\"\\n Classification Report:\\n\", classification_report(y_test, y_pred))\n",
    "print(\"Accuracy:\", accuracy_score(y_test, y_pred))\n",
    "print(\" Final F1 Score:\", f1_score(y_test, y_pred))"
   ]
  }
 ],
 "metadata": {
  "kernelspec": {
   "display_name": "Python 3",
   "language": "python",
   "name": "python3"
  },
  "language_info": {
   "codemirror_mode": {
    "name": "ipython",
    "version": 3
   },
   "file_extension": ".py",
   "mimetype": "text/x-python",
   "name": "python",
   "nbconvert_exporter": "python",
   "pygments_lexer": "ipython3",
   "version": "3.12.1"
  }
 },
 "nbformat": 4,
 "nbformat_minor": 5
}
